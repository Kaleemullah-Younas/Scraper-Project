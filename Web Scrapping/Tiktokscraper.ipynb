{
 "cells": [
  {
   "cell_type": "markdown",
   "id": "40aa6c6f",
   "metadata": {},
   "source": [
    "# Scraping from tiktok"
   ]
  },
  {
   "cell_type": "code",
   "execution_count": 1,
   "id": "91de5431",
   "metadata": {},
   "outputs": [],
   "source": [
    "from selenium import webdriver\n",
    "from selenium.webdriver.common.by import By\n",
    "from selenium.webdriver.chrome.service import Service\n",
    "from selenium.webdriver.chrome.options import Options"
   ]
  },
  {
   "cell_type": "code",
   "execution_count": 5,
   "id": "4ce48c25",
   "metadata": {},
   "outputs": [],
   "source": [
    "def get_tiktok_follower_count(username):\n",
    "    # Set up Chrome options\n",
    "    chrome_options = Options()\n",
    "    chrome_options.add_argument(\"--headless\")  # Run Chrome in headless mode\n",
    "    chrome_options.add_argument(\"--disable-gpu\")\n",
    "\n",
    "    # Specify the path to the ChromeDriver\n",
    "    driver_path = \"K:/Setup/chromedriver.exe\"\n",
    "    service = Service(driver_path)\n",
    "\n",
    "    # Initialize the WebDriver\n",
    "    driver = webdriver.Chrome(service=service, options=chrome_options)\n",
    "\n",
    "    try:\n",
    "        # Build the URL for the TikTok user's profile\n",
    "        url = f\"https://www.tiktok.com/@{username}\"\n",
    "\n",
    "        # Navigate to the URL\n",
    "        driver.get(url)\n",
    "\n",
    "        # Wait for the follower count element to load and extract it\n",
    "        # The CSS selector might need to be adjusted if TikTok's layout changes\n",
    "        follower_count_element = driver.find_element(By.CSS_SELECTOR, 'strong[title=\"Followers\"]')\n",
    "        follower_count = follower_count_element.text\n",
    "\n",
    "        return follower_count\n",
    "    except Exception as e:\n",
    "        print(f\"Error: {e}\")\n",
    "    finally:\n",
    "        # Quit the driver\n",
    "        driver.quit()"
   ]
  },
  {
   "cell_type": "code",
   "execution_count": 3,
   "id": "72265434",
   "metadata": {},
   "outputs": [
    {
     "name": "stdout",
     "output_type": "stream",
     "text": [
      "Enter the TikTok username: Macklemore\n",
      "The user Macklemore has 3.1M followers.\n"
     ]
    }
   ],
   "source": [
    "if __name__ == \"__main__\":\n",
    "    username = input('')\n",
    "    follower_count = get_tiktok_follower_count(username)\n",
    "    if follower_count:\n",
    "        print(f\"The user {username} has {follower_count} followers.\")\n",
    "    else:\n",
    "        print(\"Could not retrieve follower count.\")"
   ]
  },
  {
   "cell_type": "markdown",
   "id": "b97aba59",
   "metadata": {},
   "source": [
    "## Scraping from the tokcount.com"
   ]
  },
  {
   "cell_type": "code",
   "execution_count": 8,
   "id": "82ae6e7e",
   "metadata": {},
   "outputs": [],
   "source": [
    "from selenium import webdriver\n",
    "from selenium.webdriver.common.keys import Keys\n",
    "from selenium.webdriver.support import expected_conditions as EC\n",
    "from selenium.webdriver.common.by import By\n",
    "from selenium.webdriver.support.wait import WebDriverWait\n",
    "import time"
   ]
  },
  {
   "cell_type": "code",
   "execution_count": 22,
   "id": "92576eeb",
   "metadata": {},
   "outputs": [
    {
     "name": "stdout",
     "output_type": "stream",
     "text": [
      "The number of followers for duckybhai on TokCount is: 2,071,772\n"
     ]
    }
   ],
   "source": [
    "service = Service('K:/Setup/chromedriver.exe')\n",
    "driver = webdriver.Chrome(service=service)\n",
    "\n",
    "driver.get(\"https://tokcount.com/\")\n",
    "\n",
    "Accept = WebDriverWait(driver, 10).until(EC.element_to_be_clickable((By.CSS_SELECTOR, \"button.bg-red-800\")))\n",
    "Accept.click()\n",
    "search_box = WebDriverWait(driver, 10).until(EC.element_to_be_clickable((By.CSS_SELECTOR, \"input[placeholder='username']\")))\n",
    "\n",
    "# change the username accordingly\n",
    "username =  'duckybhai'\n",
    "\n",
    "search_box.send_keys(username)\n",
    "time.sleep(5)\n",
    "button = WebDriverWait(driver, 2).until(EC.element_to_be_clickable((By.CSS_SELECTOR, \"button.bg-green-600\")))\n",
    "button.click()\n",
    "time.sleep(5)\n",
    "follower_count_element = WebDriverWait(driver, 10).until(EC.presence_of_element_located((By.CSS_SELECTOR, \"span.text-2xl.font-bold\")))\n",
    "        \n",
    "follower_count = follower_count_element.text\n",
    "\n",
    "print(f\"The number of followers for {username} on TokCount is: {follower_count}\")"
   ]
  },
  {
   "cell_type": "code",
   "execution_count": null,
   "id": "b2caba2b",
   "metadata": {},
   "outputs": [],
   "source": []
  }
 ],
 "metadata": {
  "kernelspec": {
   "display_name": "Python 3 (ipykernel)",
   "language": "python",
   "name": "python3"
  },
  "language_info": {
   "codemirror_mode": {
    "name": "ipython",
    "version": 3
   },
   "file_extension": ".py",
   "mimetype": "text/x-python",
   "name": "python",
   "nbconvert_exporter": "python",
   "pygments_lexer": "ipython3",
   "version": "3.11.5"
  }
 },
 "nbformat": 4,
 "nbformat_minor": 5
}
