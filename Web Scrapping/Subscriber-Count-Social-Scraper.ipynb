{
  "cells": [
    {
      "cell_type": "markdown",
      "metadata": {
        "id": "d7sNmq8eIWkX"
      },
      "source": [
        "\n",
        "\n",
        "---\n",
        "\n",
        "\n",
        "# 1. Instagram Follower-count by RapidAPI\n",
        "\n",
        "---\n",
        "\n",
        "\n",
        "Link for Instagram rapidAPI:\n",
        "https://rapidapi.com/social-api1-instagram/api/instagram-scraper-api2/playground/apiendpoint_59cb4f4c-55c0-41b5-807d-e39967e66c1d\n",
        "\n",
        "-- Pricing Package - Instagram Scraper API ([Click Here](https://rapidapi.com/social-api1-instagram/api/instagram-scraper-api2/pricing))\n",
        "\n",
        "- Basic plan -- FREE -- 500/- requests per month\n",
        "\n",
        "- Pro plan -- $15 -- 30,000/- requests per month\n",
        "\n",
        "- Ultra plan -- $140 -- 200,000/- requests per month\n",
        "\n",
        "- Mega plan -- $700 -- 1,000,000/- requests per month\n",
        "\n",
        "\n",
        "\n",
        "---\n",
        "\n"
      ]
    },
    {
      "cell_type": "markdown",
      "metadata": {
        "id": "OlneDXf0oPP0"
      },
      "source": [
        "#**API (DEMO)**\n",
        "\n",
        "---\n",
        "\n"
      ]
    },
    {
      "cell_type": "code",
      "execution_count": null,
      "metadata": {
        "colab": {
          "base_uri": "https://localhost:8080/"
        },
        "id": "yDFJfyQQ3O0J",
        "outputId": "6704f778-0895-4e46-9504-635b4e3b123a"
      },
      "outputs": [
        {
          "name": "stdout",
          "output_type": "stream",
          "text": [
            "Enter the Instagram username: mrbeast\n",
            "The number of followers for mrbeast is: 60597796\n"
          ]
        }
      ],
      "source": [
        "# js code is available on website given above, python code is available below\n",
        "import http.client\n",
        "import json\n",
        "\n",
        "def get_instagram_followers_count(username):\n",
        "    conn = http.client.HTTPSConnection(\"instagram-scraper-api2.p.rapidapi.com\")\n",
        "\n",
        "    headers = { \n",
        "        'x-rapidapi-key': \"\",  # replace rapidApi key\n",
        "        'x-rapidapi-host': \"instagram-scraper-api2.p.rapidapi.com\"\n",
        "    }\n",
        "\n",
        "    url = f\"/v1/info?username_or_id_or_url={username}\"\n",
        "    conn.request(\"GET\", url, headers=headers)\n",
        "\n",
        "    res = conn.getresponse()\n",
        "    data = res.read()\n",
        "\n",
        "    # Decode the response and parse it as JSON\n",
        "    json_data = json.loads(data.decode(\"utf-8\"))\n",
        "\n",
        "    # Extract the follower_count from the 'data' key\n",
        "    follower_count = json_data.get('data', {}).get('follower_count')\n",
        "\n",
        "    return follower_count\n",
        "\n",
        "# Example usage\n",
        "username = input(\"Enter the Instagram username: \")\n",
        "follower_count = get_instagram_followers_count(username)\n",
        "print(f\"The number of followers for {username} is: {follower_count}\")"
      ]
    },
    {
      "cell_type": "markdown",
      "metadata": {
        "id": "bjHY5dOeYniM"
      },
      "source": [
        "\n",
        "\n",
        "---\n",
        "\n",
        "\n",
        "\n",
        "# 2. Twitter Follower-count by RapidAPI\n",
        "\n",
        "\n",
        "---\n",
        "\n",
        "\n",
        "\n",
        "Link for Twitter rapidAPI:\n",
        "1. https://rapidapi.com/davethebeast/api/twitter241/playground/apiendpoint_199bb6b4-ae15-4fe7-a82f-4089a6bb7f5b\n",
        "\n",
        "2. https://rapidapi.com/alexanderxbx/api/twitter-api45/playground/apiendpoint_b4db8ee2-25bc-4743-934d-8b9b4e774bd7\n",
        "\n",
        "-- Pricing Package 1 - Twitter ([Click Here](https://rapidapi.com/davethebeast/api/twitter241/pricing)) -- **Recommended**\n",
        "\n",
        "- Basic plan -- FREE -- 500/- requests per month\n",
        "\n",
        "- Pro plan -- $25 -- 100,000/- requests per month\n",
        "\n",
        "- Ultra plan -- $80 -- 500,000/- requests per month\n",
        "\n",
        "-- Pricing Package 2 - Twitter API ([Click Here](https://rapidapi.com/alexanderxbx/api/twitter-api45/pricing))\n",
        "\n",
        "- Basic plan -- FREE -- 1000/- requests per month\n",
        "\n",
        "- Pro plan -- $10 -- 100,000/- requests per month\n",
        "\n",
        "- Ultra plan -- $75 -- 1,500,000/- requests per month\n",
        "\n",
        "\n",
        "\n",
        "---\n",
        "\n"
      ]
    },
    {
      "cell_type": "markdown",
      "metadata": {
        "id": "uSX_peUdjCHZ"
      },
      "source": [
        "#**Package # 1 (DEMO)**\n",
        "\n",
        "---\n",
        "\n"
      ]
    },
    {
      "cell_type": "code",
      "execution_count": null,
      "metadata": {
        "colab": {
          "base_uri": "https://localhost:8080/"
        },
        "id": "xSjVoOCs3fQp",
        "outputId": "5c6cce8c-2065-4de0-f3c8-ba608be52a01"
      },
      "outputs": [
        {
          "name": "stdout",
          "output_type": "stream",
          "text": [
            "Enter the Twitter username: elonmusk\n",
            "The number of followers for elonmusk is: 192801240\n"
          ]
        }
      ],
      "source": [
        "# js code is available on website given above, python code is available below\n",
        "import http.client\n",
        "import json\n",
        "\n",
        "def get_twitter_followers_count(username):\n",
        "    conn = http.client.HTTPSConnection(\"twitter241.p.rapidapi.com\")\n",
        "\n",
        "    headers = {\n",
        "        'x-rapidapi-key': \"\", # replace rapidApi key\n",
        "        'x-rapidapi-host': \"twitter241.p.rapidapi.com\"\n",
        "    }\n",
        "\n",
        "    url = f\"/user?username={username}\"\n",
        "    conn.request(\"GET\", url, headers=headers)\n",
        "\n",
        "    res = conn.getresponse()\n",
        "    data = res.read()\n",
        "\n",
        "    # Decode the response and parse it as JSON\n",
        "    json_data = json.loads(data.decode(\"utf-8\"))\n",
        "\n",
        "    # Extract the followers_count from the 'data' key\n",
        "    user_data = json_data.get('result', {}).get('data', {}).get('user', {})\n",
        "    result_data = user_data.get('result', {})\n",
        "    legacy_data = result_data.get('legacy', {})\n",
        "    followers_count = legacy_data.get('followers_count')\n",
        "\n",
        "    return followers_count\n",
        "\n",
        "# Example usage\n",
        "username = input(\"Enter the Twitter username: \")\n",
        "followers_count = get_twitter_followers_count(username)\n",
        "print(f\"The number of followers for {username} is: {followers_count}\")"
      ]
    },
    {
      "cell_type": "markdown",
      "metadata": {
        "id": "dlPBjGq8moKK"
      },
      "source": [
        "#**Package # 2 (DEMO)**\n",
        "\n",
        "---\n",
        "\n"
      ]
    },
    {
      "cell_type": "code",
      "execution_count": null,
      "metadata": {
        "colab": {
          "base_uri": "https://localhost:8080/"
        },
        "id": "ZocuMFPJmnb2",
        "outputId": "da49c7d0-15f2-4c91-8991-fae200d3fe12"
      },
      "outputs": [
        {
          "name": "stdout",
          "output_type": "stream",
          "text": [
            "Enter the Twitter username: MrBeast\n",
            "The number of followers for MrBeast is: 30874020\n"
          ]
        }
      ],
      "source": [
        "# js code is available on website given above, python code is available below\n",
        "import http.client\n",
        "import json\n",
        "\n",
        "def get_twitter_followers_count(username):\n",
        "    conn = http.client.HTTPSConnection(\"twitter-api45.p.rapidapi.com\")\n",
        "\n",
        "    headers = {\n",
        "        'x-rapidapi-key': \"\", # replace rapidApi key\n",
        "        'x-rapidapi-host': \"twitter-api45.p.rapidapi.com\"\n",
        "    }\n",
        "\n",
        "    url = f\"/screenname.php?screenname={username}\"\n",
        "    conn.request(\"GET\", url, headers=headers)\n",
        "\n",
        "    res = conn.getresponse()\n",
        "    data = res.read()\n",
        "\n",
        "    # Decode the response and parse it as JSON\n",
        "    json_data = json.loads(data.decode(\"utf-8\"))\n",
        "\n",
        "    # Extract the followers_count from the 'data' key\n",
        "    followers_count = json_data.get('sub_count')\n",
        "\n",
        "    return followers_count\n",
        "\n",
        "# Example usage\n",
        "username = input(\"Enter the Twitter username: \")\n",
        "followers_count = get_twitter_followers_count(username)\n",
        "print(f\"The number of followers for {username} is: {followers_count}\")"
      ]
    },
    {
      "cell_type": "markdown",
      "metadata": {
        "id": "xs0CwQONnsHw"
      },
      "source": [
        "\n",
        "\n",
        "---\n",
        "\n",
        "\n",
        "\n",
        "# 3. Youtube Follower-count from Socialcounts website  -- **(Free)**\n",
        "\n",
        "\n",
        "---\n",
        "\n"
      ]
    },
    {
      "cell_type": "markdown",
      "metadata": {
        "id": "LnJedtY9pRgk"
      },
      "source": [
        "#**DEMO**\n",
        "\n",
        "\n",
        "---\n",
        "\n"
      ]
    },
    {
      "cell_type": "code",
      "execution_count": null,
      "metadata": {
        "colab": {
          "base_uri": "https://localhost:8080/"
        },
        "id": "G_0Qcyb16mca",
        "outputId": "dea5bade-f0cb-4567-d617-c40ad36d32d4"
      },
      "outputs": [
        {
          "name": "stdout",
          "output_type": "stream",
          "text": [
            "Live Subscriber Count: 7724818\n"
          ]
        }
      ],
      "source": [
        "# js code is not available convert this code with help of gpt or online converter, python code is available below\n",
        "import requests\n",
        "import json\n",
        "\n",
        "def get_live_subscriber_count(channel_id):\n",
        "    url = f'https://api.socialcounts.org/youtube-live-subscriber-count/{channel_id}'\n",
        "    try:\n",
        "        response = requests.get(url)\n",
        "        response.raise_for_status()  # Raise an exception for HTTP errors\n",
        "        data = response.json()\n",
        "        subscriber_count = data.get(\"est_sub\")\n",
        "        return subscriber_count\n",
        "    except requests.exceptions.RequestException as e:\n",
        "        print(f\"An error occurred: {e}\")\n",
        "        return None\n",
        "\n",
        "channel_id = 'UC_c-RTowPbIlzMkIa_O7s6Q'  # Replace with the desired YouTube channel ID\n",
        "subscriber_count = get_live_subscriber_count(channel_id)\n",
        "\n",
        "if subscriber_count is not None:\n",
        "    print(f\"Live Subscriber Count: {subscriber_count}\")\n",
        "else:\n",
        "    print(\"Failed to retrieve subscriber count.\")"
      ]
    },
    {
      "cell_type": "markdown",
      "metadata": {
        "id": "EQTebyYi9fes"
      },
      "source": [
        "\n",
        "\n",
        "---\n",
        "\n",
        "---\n",
        "\n",
        "\n",
        "\n",
        "\n",
        "# 4. Google Reviews API -- **Already using official API (Integrated) **\n",
        "\n",
        "\n",
        "---\n",
        "\n",
        "---\n",
        "\n",
        "\n",
        "\n",
        "\n"
      ]
    },
    {
      "cell_type": "markdown",
      "metadata": {
        "id": "1qJ2ghjeTUpx"
      },
      "source": [
        "\n",
        "\n",
        "---\n",
        "\n",
        "\n",
        "\n",
        "# 5. Tiktok Follower-count by RapidAPI\n",
        "\n",
        "\n",
        "---\n",
        "\n",
        "\n",
        "\n",
        "Link for Tiktok rapidAPI:\n",
        "1. https://rapidapi.com/Lundehund/api/tiktok-api23/playground/apiendpoint_c1dca90d-a452-4ec8-9ac8-5d6fe43c9d62\n",
        "\n",
        "2. https://tokcount.com/\n",
        "\n",
        "###- 1. Tiktok API by RapidAPI ([Click Here](https://rapidapi.com/Lundehund/api/tiktok-api23/pricing)) -- (Result is not exact -- Accurate)\n",
        "\n",
        "- Basic plan -- FREE -- 100/- requests per month\n",
        "\n",
        "- Pro plan -- $10 -- 200,000/- requests per month\n",
        "\n",
        "- Ultra plan -- $20 -- 400,000/- requests per month\n",
        "\n",
        "- Mega Plan -- $50 -- 1,000,000/- requests per month\n",
        "---\n",
        "\n",
        "###- Scraping from Tiktok Website -- **Free**\n",
        "\n",
        "###- 2. Scraping Data from website ([Click Here](https://tokcount.com/)) -- **Recommended + FREE**\n"
      ]
    },
    {
      "cell_type": "markdown",
      "metadata": {
        "id": "qNWg5qTzX-SS"
      },
      "source": [
        "#**Tiktok API by RapidAPI (DEMO)**\n",
        "\n",
        "---\n",
        "\n"
      ]
    },
    {
      "cell_type": "code",
      "execution_count": null,
      "metadata": {
        "colab": {
          "base_uri": "https://localhost:8080/"
        },
        "id": "zSFo2NcKX9nH",
        "outputId": "151dbd9e-7f0a-46c8-ac8b-66e6db0584af"
      },
      "outputs": [
        {
          "name": "stdout",
          "output_type": "stream",
          "text": [
            "Enter the TikTok ID Name: MrBeast\n",
            "The number of followers for MrBeast on TikTok is: 103400000\n"
          ]
        }
      ],
      "source": [
        "# js code is not available convert this code with help of gpt or online converter, python code is available below\n",
        "import http.client\n",
        "import json\n",
        "\n",
        "def get_tiktok_followers_count(unique_id):\n",
        "    conn = http.client.HTTPSConnection(\"tiktok-api23.p.rapidapi.com\")\n",
        "\n",
        "    headers = {\n",
        "        'x-rapidapi-key': \"\", # replace rapidApi key\n",
        "        'x-rapidapi-host': \"tiktok-api23.p.rapidapi.com\"\n",
        "    }\n",
        "\n",
        "    url = f\"/api/user/info?uniqueId={unique_id}\"\n",
        "    conn.request(\"GET\", url, headers=headers)\n",
        "\n",
        "    res = conn.getresponse()\n",
        "    data = res.read()\n",
        "\n",
        "    json_data = json.loads(data.decode(\"utf-8\"))\n",
        "\n",
        "    follower_count = json_data.get('userInfo', {}).get('stats', {}).get('followerCount')\n",
        "\n",
        "    return follower_count\n",
        "\n",
        "unique_id = input(\"Enter the TikTok ID Name: \")\n",
        "follower_count = get_tiktok_followers_count(unique_id)\n",
        "print(f\"The number of followers for {unique_id} on TikTok is: {follower_count}\")"
      ]
    },
    {
      "cell_type": "markdown",
      "metadata": {
        "id": "zgr-xV3SfPrN"
      },
      "source": [
        "#**Scraping from Tiktok website (We can do it but it doesn't give exact figures)**\n",
        " like For-Example:\n",
        "- Input : username: MrBeast\n",
        "- Output : Follower: 103.4M\n",
        "\n",
        "\n"
      ]
    },
    {
      "cell_type": "code",
      "execution_count": null,
      "metadata": {
        "id": "r93SDa83FuEG"
      },
      "outputs": [],
      "source": [
        "# This code will not run here in googlecolab because it requires several dependencies to install. But the logic and code is correct.\n",
        "from selenium import webdriver\n",
        "from selenium.webdriver.common.by import By\n",
        "from selenium.webdriver.chrome.service import Service\n",
        "from selenium.webdriver.chrome.options import Options\n",
        "\n",
        "def get_tiktok_follower_count(username):\n",
        "    # Set up Chrome options\n",
        "    chrome_options = Options()\n",
        "    chrome_options.add_argument(\"--headless\")\n",
        "    chrome_options.add_argument(\"--disable-gpu\")\n",
        "\n",
        "    driver_path = \"chromedriver.exe\" # Replace with the path to your chromedriver executable\n",
        "    service = Service(driver_path)\n",
        "\n",
        "    driver = webdriver.Chrome(service=service, options=chrome_options)\n",
        "\n",
        "    try:\n",
        "        url = f\"https://www.tiktok.com/@{username}\"\n",
        "\n",
        "        driver.get(url)\n",
        "\n",
        "        follower_count_element = driver.find_element(By.CSS_SELECTOR, 'strong[title=\"Followers\"]')\n",
        "        follower_count = follower_count_element.text\n",
        "\n",
        "        return follower_count\n",
        "    except Exception as e:\n",
        "        print(f\"Error: {e}\")\n",
        "    finally:\n",
        "        driver.quit()\n",
        "\n",
        "if __name__ == \"__main__\":\n",
        "    username = input('')\n",
        "    follower_count = get_tiktok_follower_count(username)\n",
        "    if follower_count:\n",
        "        print(f\"The user {username} has {follower_count} followers.\")\n",
        "    else:\n",
        "        print(\"Could not retrieve follower count.\")"
      ]
    },
    {
      "cell_type": "markdown",
      "metadata": {
        "id": "5AEhs8zTIpMZ"
      },
      "source": [
        "OUTPUT IS LIKE THIS:\n",
        "\n",
        "Enter the TikTok username: Macklemore\n",
        "\n",
        "The user Macklemore has 3.1M followers"
      ]
    },
    {
      "cell_type": "markdown",
      "metadata": {
        "id": "Bspk8q7eE92t"
      },
      "source": [
        "#**Scraping from Tokcount website (DEMO)**\n",
        "\n",
        "---\n",
        "\n"
      ]
    },
    {
      "cell_type": "code",
      "execution_count": null,
      "metadata": {
        "id": "oZ3A0ZTeFtbz"
      },
      "outputs": [],
      "source": [
        "# This code will not run here in googlecolab because it requires several dependencies to install. But the logic and code is correct.\n",
        "from selenium import webdriver\n",
        "from selenium.webdriver.common.keys import Keys\n",
        "from selenium.webdriver.support import expected_conditions as EC\n",
        "from selenium.webdriver.common.by import By\n",
        "from selenium.webdriver.support.wait import WebDriverWait\n",
        "import time\n",
        "\n",
        "service = Service('chromedriver.exe') # Replace with the path to your chromedriver executable\n",
        "driver = webdriver.Chrome(service=service)\n",
        "\n",
        "driver.get(\"https://tokcount.com/\")\n",
        "\n",
        "Accept = WebDriverWait(driver, 10).until(EC.element_to_be_clickable((By.CSS_SELECTOR, \"button.bg-red-800\")))\n",
        "Accept.click()\n",
        "search_box = WebDriverWait(driver, 10).until(EC.element_to_be_clickable((By.CSS_SELECTOR, \"input[placeholder='username']\")))\n",
        "\n",
        "# change the username accordingly\n",
        "username =  'duckybhai'\n",
        "\n",
        "search_box.send_keys(username)\n",
        "time.sleep(5)\n",
        "button = WebDriverWait(driver, 2).until(EC.element_to_be_clickable((By.CSS_SELECTOR, \"button.bg-green-600\")))\n",
        "button.click()\n",
        "time.sleep(5)\n",
        "follower_count_element = WebDriverWait(driver, 10).until(EC.presence_of_element_located((By.CSS_SELECTOR, \"span.text-2xl.font-bold\")))\n",
        "\n",
        "follower_count = follower_count_element.text\n",
        "\n",
        "print(f\"The number of followers for {username} on TokCount is: {follower_count}\")"
      ]
    },
    {
      "cell_type": "markdown",
      "metadata": {
        "id": "-RyDLV--JQ8R"
      },
      "source": [
        "The number of followers for duckybhai on TokCount is: 2,071,772"
      ]
    },
    {
      "cell_type": "markdown",
      "metadata": {
        "id": "Hnf6G2mW9n57"
      },
      "source": [
        "\n",
        "\n",
        "---\n",
        "\n",
        "\n",
        "# 6. Facebook Follower-count API\n",
        "\n",
        "Link for Facebook rapidAPI:\n",
        "1. https://rapidapi.com/ousema.frikha/api/facebook-pages-scraper2/playground/apiendpoint_83045a77-1cfc-47b2-a51c-e9008e6eb5da\n",
        "\n",
        "2.\n",
        "\n",
        "###- 1. Facebook Page Scraper API by RapidAPI ([Click Here](https://rapidapi.com/ousema.frikha/api/facebook-pages-scraper2/playground/apiendpoint_83045a77-1cfc-47b2-a51c-e9008e6eb5da))\n",
        "\n",
        "- Basic plan -- FREE -- 15/- requests per month\n",
        "\n",
        "- Pro plan -- $49 -- 2,000/- requests per month\n",
        "\n",
        "- Ultra plan -- $99 -- 8,500/- requests per month\n",
        "\n",
        "- Mega Plan -- $300 -- 40,000/- requests per month\n",
        "\n",
        "---\n",
        "\n"
      ]
    },
    {
      "cell_type": "code",
      "execution_count": null,
      "metadata": {
        "colab": {
          "base_uri": "https://localhost:8080/"
        },
        "id": "Z54a5k2QPMqo",
        "outputId": "90f91e10-0e8d-4b00-ad6a-e8b3b6d37588"
      },
      "outputs": [
        {
          "name": "stdout",
          "output_type": "stream",
          "text": [
            "Enter the Facebook username: EngenSA\n",
            "The follower count for EngenSA is: 88054\n"
          ]
        }
      ],
      "source": [
        "import http.client\n",
        "import json\n",
        "\n",
        "def get_facebook_follower_count(username):\n",
        "    conn = http.client.HTTPSConnection(\"facebook-pages-scraper2.p.rapidapi.com\")\n",
        "\n",
        "    headers = {\n",
        "        'x-rapidapi-key': \"\", # replace rapidApi key\n",
        "        'x-rapidapi-host': \"facebook-pages-scraper2.p.rapidapi.com\"\n",
        "    }\n",
        "\n",
        "    url = f\"/get_facebook_pages_details?link=https%3A%2F%2Fwww.facebook.com%2F{username}\"\n",
        "    conn.request(\"GET\", url, headers=headers)\n",
        "\n",
        "    res = conn.getresponse()\n",
        "    data = res.read()\n",
        "\n",
        "    parsed_data = json.loads(data.decode(\"utf-8\"))\n",
        "\n",
        "    if parsed_data and isinstance(parsed_data, list) and 'followers_count' in parsed_data[0]:\n",
        "        followers_count = parsed_data[0]['followers_count']\n",
        "        return followers_count\n",
        "    else:\n",
        "        return \"Followers count not found\"\n",
        "\n",
        "username = input(\"Enter the Facebook username: \")\n",
        "followers_count = get_facebook_follower_count(username)\n",
        "print(f\"The follower count for {username} is: {followers_count}\")"
      ]
    },
    {
      "cell_type": "markdown",
      "metadata": {
        "id": "0rAv44-HD6tH"
      },
      "source": [
        "\n",
        "**UPDATED CODE**"
      ]
    },
    {
      "cell_type": "markdown",
      "metadata": {
        "id": "tYMeaYtoDe2I"
      },
      "source": [
        "\n",
        "\n",
        "---\n",
        "\n",
        "\n",
        "# **Facebook** (Direct Scrapping from official website)"
      ]
    },
    {
      "cell_type": "code",
      "execution_count": null,
      "metadata": {
        "id": "KUMJRsjiYr6C"
      },
      "outputs": [],
      "source": [
        "# This code will not run here in googlecolab because it requires several dependencies to install.\n",
        "from selenium import webdriver\n",
        "from selenium.webdriver.chrome.service import Service\n",
        "from selenium.webdriver.common.by import By\n",
        "from selenium.webdriver.support.ui import WebDriverWait\n",
        "from selenium.webdriver.support import expected_conditions as EC\n",
        "from selenium.common.exceptions import TimeoutException, NoSuchElementException\n",
        "import time\n",
        "import random\n",
        "import os\n",
        "\n",
        "chrome_options = webdriver.ChromeOptions()\n",
        "chrome_options.add_argument('--start-maximized')  # Maximize the browser window\n",
        "\n",
        "# Path to ChromeDriver\n",
        "CHROME_DRIVER_PATH = r\"chromedriver.exe\"\n",
        "\n",
        "def initialize_driver():\n",
        "    service = Service(CHROME_DRIVER_PATH)\n",
        "    return webdriver.Chrome(service=service, options=chrome_options)\n",
        "\n",
        "def random_sleep(min_seconds=2, max_seconds=5):\n",
        "    time.sleep(random.uniform(min_seconds, max_seconds))\n",
        "\n",
        "def handle_popup(driver):\n",
        "    try:\n",
        "        # Wait for the popup to appear and find the close button\n",
        "        close_button = WebDriverWait(driver, 10).until(\n",
        "            EC.element_to_be_clickable((By.XPATH, \"//div[@role='button' and @aria-label='Close']\"))\n",
        "        )\n",
        "        close_button.click()\n",
        "        print(\"Popup closed successfully\")\n",
        "    except TimeoutException:\n",
        "        print(\"No popup found or unable to close popup\")\n",
        "    except Exception as e:\n",
        "        print(f\"Error handling popup: {str(e)}\")\n",
        "\n",
        "def get_subscriber_count(driver):\n",
        "    try:\n",
        "        # Wait for the subscriber count element to be visible\n",
        "        subscriber_element = WebDriverWait(driver, 10).until(\n",
        "            EC.presence_of_element_located((By.XPATH, \"//span[contains(@class, 'x193iq5w')]//a[contains(@href, '/followers/')]\"))\n",
        "        )\n",
        "        return subscriber_element.text.split()[0]  # Extract the number\n",
        "    except TimeoutException:\n",
        "        print(\"Couldn't find subscriber count\")\n",
        "        return \"N/A\"\n",
        "    except Exception as e:\n",
        "        print(f\"Error getting subscriber count: {str(e)}\")\n",
        "        return \"Error\"\n",
        "\n",
        "def extract_page_info(driver, username):\n",
        "    url = f\"https://www.facebook.com/{username}\"\n",
        "\n",
        "    try:\n",
        "        print(f\"Navigating to {url}\")\n",
        "        driver.get(url)\n",
        "        random_sleep()\n",
        "\n",
        "        print(\"Checking for popup\")\n",
        "        handle_popup(driver)\n",
        "        random_sleep()\n",
        "\n",
        "        print(\"Attempting to get subscriber count\")\n",
        "        subscriber_count = get_subscriber_count(driver)\n",
        "        print(f\"Username: {username}\")\n",
        "        print(f\"Subscriber Count: {subscriber_count}\")\n",
        "        print(\"-\" * 30)\n",
        "    except Exception as e:\n",
        "        print(f\"Error extracting info for {username}: {str(e)}\")\n",
        "        print(\"-\" * 30)\n",
        "\n",
        "def main():\n",
        "    driver = initialize_driver()\n",
        "\n",
        "    try:\n",
        "        # List of Facebook page usernames\n",
        "        usernames = [\n",
        "            \"MetaAI\",\n",
        "            \"Google\",\n",
        "            \"Amazon\",\n",
        "            \"Microsoft\"\n",
        "        ]\n",
        "\n",
        "        print(\"Facebook Page Subscriber Counts:\")\n",
        "        print(\"=\" * 30)\n",
        "\n",
        "        for username in usernames:\n",
        "            extract_page_info(driver, username)\n",
        "            random_sleep(5, 10)\n",
        "\n",
        "    except Exception as e:\n",
        "        print(f\"An error occurred in main: {str(e)}\")\n",
        "\n",
        "    finally:\n",
        "        input(\"Press Enter to close the browser...\")\n",
        "        driver.quit()\n",
        "\n",
        "if __name__ == \"__main__\":\n",
        "    main()"
      ]
    },
    {
      "cell_type": "markdown",
      "metadata": {
        "id": "XqJTQ8qNELj5"
      },
      "source": [
        "Sample Output:\n",
        "\n",
        "```\n",
        "# Facebook Page Subscriber Counts:\n",
        "==============================\n",
        "Navigating to https://www.facebook.com/MetaAI\n",
        "Checking for popup\n",
        "Popup closed successfully\n",
        "Attempting to get subscriber count\n",
        "Username: MetaAI\n",
        "Subscriber Count: 799K\n",
        "------------------------------\n",
        "Created TensorFlow Lite XNNPACK delegate for CPU.\n",
        "Navigating to https://www.facebook.com/Google\n",
        "Checking for popup\n",
        "Popup closed successfully\n",
        "Attempting to use a delegate that only supports static-sized tensors with a graph that has dynamic-sized tensors (tensor#58 is a dynamic-sized tensor).\n",
        "Attempting to get subscriber count\n",
        "Username: Google\n",
        "Subscriber Count: 34M\n",
        "------------------------------\n",
        "Navigating to https://www.facebook.com/Amazon\n",
        "Checking for popup\n",
        "Popup closed successfully\n",
        "Attempting to get subscriber count\n",
        "Username: Amazon\n",
        "Subscriber Count: 29M\n",
        "------------------------------\n",
        "Navigating to https://www.facebook.com/Microsoft\n",
        "Checking for popup\n",
        "Popup closed successfully\n",
        "Attempting to get subscriber count\n",
        "Username: Microsoft\n",
        "Subscriber Count: 13M\n",
        "------------------------------\n",
        "Press Enter to close the browser...\n",
        "```\n"
      ]
    },
    {
      "cell_type": "code",
      "execution_count": null,
      "metadata": {
        "id": "_tWLV1LkFvs8"
      },
      "outputs": [],
      "source": []
    }
  ],
  "metadata": {
    "colab": {
      "provenance": []
    },
    "kernelspec": {
      "display_name": "Python 3",
      "name": "python3"
    },
    "language_info": {
      "name": "python"
    }
  },
  "nbformat": 4,
  "nbformat_minor": 0
}
